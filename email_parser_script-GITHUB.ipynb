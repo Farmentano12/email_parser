{
 "cells": [
  {
   "cell_type": "markdown",
   "id": "29c687bd",
   "metadata": {},
   "source": [
    "# 1. Load Required Libraries"
   ]
  },
  {
   "cell_type": "code",
   "execution_count": 2,
   "id": "c53f198a",
   "metadata": {},
   "outputs": [],
   "source": [
    "import pandas as pd\n",
    "import numpy as np\n",
    "from googleapiclient.discovery import build\n",
    "from google_auth_oauthlib.flow import InstalledAppFlow\n",
    "from google.auth.transport.requests import Request\n",
    "import pickle\n",
    "import os.path\n",
    "import base64\n",
    "import email\n",
    "from bs4 import BeautifulSoup\n",
    "import gspread\n",
    "from oauth2client.service_account import ServiceAccountCredentials"
   ]
  },
  {
   "cell_type": "code",
   "execution_count": 3,
   "id": "63af2146",
   "metadata": {},
   "outputs": [],
   "source": [
    "#Get the working directory will be usefull on next steps\n",
    "path = os.getcwd()"
   ]
  },
  {
   "cell_type": "markdown",
   "id": "abc08ff2",
   "metadata": {},
   "source": [
    "# 2. GMAIL API"
   ]
  },
  {
   "cell_type": "code",
   "execution_count": null,
   "id": "3d0de3c9",
   "metadata": {},
   "outputs": [],
   "source": [
    "#2.a. Define the scope\n",
    "SCOPES = ['https://www.googleapis.com/auth/gmail.readonly']"
   ]
  },
  {
   "cell_type": "code",
   "execution_count": null,
   "id": "669c74b4",
   "metadata": {},
   "outputs": [],
   "source": [
    "#2.b. Create credentials file if doesn't exist\n",
    "if os.path.exists('token.pickle'):\n",
    "    # Read the token from the file and store it in the variable creds\n",
    "    with open('token.pickle', 'rb') as token:\n",
    "        creds = pickle.load(token)\n",
    "creds"
   ]
  },
  {
   "cell_type": "code",
   "execution_count": 43,
   "id": "d22d8399",
   "metadata": {},
   "outputs": [],
   "source": [
    "#2.c Connect to the Gmail API\n",
    "service = build('gmail', 'v1', credentials=creds)\n",
    "\n",
    "#2.d Request a list of all the messages\n",
    "result = service.users().messages().list(userId='me').execute()"
   ]
  },
  {
   "cell_type": "code",
   "execution_count": 44,
   "id": "61e9b465",
   "metadata": {},
   "outputs": [],
   "source": [
    "messages = result.get('messages')"
   ]
  },
  {
   "cell_type": "code",
   "execution_count": 45,
   "id": "aa8040bf",
   "metadata": {},
   "outputs": [
    {
     "data": {
      "text/html": [
       "<div>\n",
       "<style scoped>\n",
       "    .dataframe tbody tr th:only-of-type {\n",
       "        vertical-align: middle;\n",
       "    }\n",
       "\n",
       "    .dataframe tbody tr th {\n",
       "        vertical-align: top;\n",
       "    }\n",
       "\n",
       "    .dataframe thead th {\n",
       "        text-align: right;\n",
       "    }\n",
       "</style>\n",
       "<table border=\"1\" class=\"dataframe\">\n",
       "  <thead>\n",
       "    <tr style=\"text-align: right;\">\n",
       "      <th></th>\n",
       "      <th>level_0</th>\n",
       "      <th>index</th>\n",
       "      <th>timestamp</th>\n",
       "      <th>message</th>\n",
       "      <th>id</th>\n",
       "    </tr>\n",
       "  </thead>\n",
       "  <tbody>\n",
       "    <tr>\n",
       "      <th>0</th>\n",
       "      <td>0</td>\n",
       "      <td></td>\n",
       "      <td>Wed, 12 Oct 2022 17:08:23 +0000</td>\n",
       "      <td>[Facundo\\r\\nAlvarinio de Parga\\r\\ncocoloco@gma...</td>\n",
       "      <td>183cd2b431ee7f25</td>\n",
       "    </tr>\n",
       "    <tr>\n",
       "      <th>1</th>\n",
       "      <td>1</td>\n",
       "      <td></td>\n",
       "      <td>Wed, 12 Oct 2022 15:54:48 +0000</td>\n",
       "      <td>[F\\r\\nArmentano\\r\\na@gmail.com\\r\\n43\\r\\nBot de...</td>\n",
       "      <td>183cce7e8ec0b671</td>\n",
       "    </tr>\n",
       "    <tr>\n",
       "      <th>2</th>\n",
       "      <td>2</td>\n",
       "      <td></td>\n",
       "      <td>Wed, 12 Oct 2022 12:39:42 +0000</td>\n",
       "      <td>[a\\r\\nb\\r\\na@g.com\\r\\n4\\r\\nBot de Arbitrajes (...</td>\n",
       "      <td>183cc354931b7eea</td>\n",
       "    </tr>\n",
       "    <tr>\n",
       "      <th>3</th>\n",
       "      <td>3</td>\n",
       "      <td></td>\n",
       "      <td>Wed, 12 Oct 2022 12:38:57 +0000</td>\n",
       "      <td>[ad\\r\\nd@m.com\\r\\n3\\r\\nBot de Arbitrajes (Ingr...</td>\n",
       "      <td>183cc349460b345b</td>\n",
       "    </tr>\n",
       "  </tbody>\n",
       "</table>\n",
       "</div>"
      ],
      "text/plain": [
       "   level_0 index                        timestamp  \\\n",
       "0        0        Wed, 12 Oct 2022 17:08:23 +0000   \n",
       "1        1        Wed, 12 Oct 2022 15:54:48 +0000   \n",
       "2        2        Wed, 12 Oct 2022 12:39:42 +0000   \n",
       "3        3        Wed, 12 Oct 2022 12:38:57 +0000   \n",
       "\n",
       "                                             message                id  \n",
       "0  [Facundo\\r\\nAlvarinio de Parga\\r\\ncocoloco@gma...  183cd2b431ee7f25  \n",
       "1  [F\\r\\nArmentano\\r\\na@gmail.com\\r\\n43\\r\\nBot de...  183cce7e8ec0b671  \n",
       "2  [a\\r\\nb\\r\\na@g.com\\r\\n4\\r\\nBot de Arbitrajes (...  183cc354931b7eea  \n",
       "3  [ad\\r\\nd@m.com\\r\\n3\\r\\nBot de Arbitrajes (Ingr...  183cc349460b345b  "
      ]
     },
     "execution_count": 45,
     "metadata": {},
     "output_type": "execute_result"
    }
   ],
   "source": [
    "#2.e Create a DataFrame with what is needed\n",
    "df = pd.DataFrame()\n",
    "\n",
    "# iterate through all the messages\n",
    "for msg in messages:\n",
    "    # Get the message from its id\n",
    "    txt = service.users().messages().get(userId='me', id=msg['id']).execute()\n",
    "    \n",
    "    try:\n",
    "    # Get value of 'payload' from dictionary 'txt'\n",
    "        payload = txt['payload']\n",
    "        headers = payload['headers']\n",
    "\n",
    "        # Look for Subject and Sender Email in the headers\n",
    "        for d in headers:\n",
    "            #subject = headers[['name'] == 'Subject']['value']\n",
    "            #sender = headers[['name'] == 'From']['value']\n",
    "            if d['name'] == 'Subject':\n",
    "                subject = d['value']\n",
    "            if d['name'] == 'From':\n",
    "                sender = d['value']\n",
    "            if d['name'] == 'Date':\n",
    "                timestamp = d['value']\n",
    "\n",
    "            # The Body of the message is in Encrypted format. So, we have to decode it.\n",
    "            # Get the data and decode it with base 64 decoder.\n",
    "        #parts = payload.get('parts')[0]\n",
    "        #data = parts['body']['data']\n",
    "        data = payload['body']['data']\n",
    "        data = data.replace(\"-\",\"+\").replace(\"_\",\"/\")\n",
    "        decoded_data = base64.b64decode(data)\n",
    "\n",
    "        # Now, the data obtained is in lxml. So, we will parse\n",
    "        # it with BeautifulSoup library\n",
    "        soup = BeautifulSoup(decoded_data , \"lxml\")\n",
    "        body = soup.body()\n",
    "\n",
    "        #if sender == 'srv812.main-hosting.eu':\n",
    "        if subject == 'YOUR COMPANY - New Lead': #This is the condition I used because that's how the subject of emails is.\n",
    "            d = {'timestamp': timestamp,\n",
    "                'message': body,\n",
    "                'id' : msg['id']\n",
    "                        }\n",
    "            df_aux = pd.DataFrame(data = d, index =[''])\n",
    "            df = df.append(df_aux)\n",
    "        \n",
    "    except:\n",
    "        pass\n",
    "    \n",
    "df = df.reset_index()\n",
    "\n",
    "df = df.reset_index()\n",
    "\n",
    "df  "
   ]
  },
  {
   "cell_type": "code",
   "execution_count": 4,
   "id": "c1d39fb6",
   "metadata": {},
   "outputs": [],
   "source": [
    "#2.f Clean & Prepare Data"
   ]
  },
  {
   "cell_type": "code",
   "execution_count": 46,
   "id": "ee2f27e1",
   "metadata": {
    "scrolled": true
   },
   "outputs": [],
   "source": [
    "df['message'] = df['message'].astype(str)"
   ]
  },
  {
   "cell_type": "code",
   "execution_count": 47,
   "id": "219a7739",
   "metadata": {},
   "outputs": [],
   "source": [
    "df_1 = df['message'].str.split(r'(\\r\\n)',expand=True)\n",
    "df_1[0] = df_1[0].str.replace('<p>', '')\n",
    "df_1 = df_1[[0,2,4,6,8,10]]\n"
   ]
  },
  {
   "cell_type": "code",
   "execution_count": 48,
   "id": "4c7dc3e1",
   "metadata": {},
   "outputs": [],
   "source": [
    "df_1 = df_1[[0,2,4,6,8,10]]\n",
    "df_1.columns = ['nombre','apellido','mail','telefono','producto','comment']\n",
    "df_1 = df_1.reset_index()"
   ]
  },
  {
   "cell_type": "code",
   "execution_count": 49,
   "id": "1f7de347",
   "metadata": {},
   "outputs": [],
   "source": [
    "df = df[['timestamp','id','level_0']]"
   ]
  },
  {
   "cell_type": "code",
   "execution_count": 50,
   "id": "65942dae",
   "metadata": {},
   "outputs": [
    {
     "data": {
      "text/html": [
       "<div>\n",
       "<style scoped>\n",
       "    .dataframe tbody tr th:only-of-type {\n",
       "        vertical-align: middle;\n",
       "    }\n",
       "\n",
       "    .dataframe tbody tr th {\n",
       "        vertical-align: top;\n",
       "    }\n",
       "\n",
       "    .dataframe thead th {\n",
       "        text-align: right;\n",
       "    }\n",
       "</style>\n",
       "<table border=\"1\" class=\"dataframe\">\n",
       "  <thead>\n",
       "    <tr style=\"text-align: right;\">\n",
       "      <th></th>\n",
       "      <th>timestamp</th>\n",
       "      <th>id</th>\n",
       "      <th>nombre</th>\n",
       "      <th>apellido</th>\n",
       "      <th>mail</th>\n",
       "      <th>telefono</th>\n",
       "      <th>producto</th>\n",
       "      <th>comment</th>\n",
       "    </tr>\n",
       "  </thead>\n",
       "  <tbody>\n",
       "    <tr>\n",
       "      <th>0</th>\n",
       "      <td>Wed, 12 Oct 2022 17:08:23 +0000</td>\n",
       "      <td>183cd2b431ee7f25</td>\n",
       "      <td>Facundo</td>\n",
       "      <td>Alvarinio de Parga</td>\n",
       "      <td>cocoloco@gmail.com</td>\n",
       "      <td>+5492613359628</td>\n",
       "      <td>Bot de Arbitrajes (Ingresos Activos)</td>\n",
       "      <td>Hola, muy bueno todo!</td>\n",
       "    </tr>\n",
       "    <tr>\n",
       "      <th>1</th>\n",
       "      <td>Wed, 12 Oct 2022 15:54:48 +0000</td>\n",
       "      <td>183cce7e8ec0b671</td>\n",
       "      <td>F</td>\n",
       "      <td>Armentano</td>\n",
       "      <td>a@gmail.com</td>\n",
       "      <td>43</td>\n",
       "      <td>Bot de Arbitrajes (Ingresos Activos)</td>\n",
       "      <td>HOl!</td>\n",
       "    </tr>\n",
       "    <tr>\n",
       "      <th>2</th>\n",
       "      <td>Wed, 12 Oct 2022 12:39:42 +0000</td>\n",
       "      <td>183cc354931b7eea</td>\n",
       "      <td>a</td>\n",
       "      <td>b</td>\n",
       "      <td>a@g.com</td>\n",
       "      <td>4</td>\n",
       "      <td>Bot de Arbitrajes (Ingresos Activos)</td>\n",
       "      <td></td>\n",
       "    </tr>\n",
       "    <tr>\n",
       "      <th>3</th>\n",
       "      <td>Wed, 12 Oct 2022 12:38:57 +0000</td>\n",
       "      <td>183cc349460b345b</td>\n",
       "      <td>ad</td>\n",
       "      <td>d@m.com</td>\n",
       "      <td>3</td>\n",
       "      <td>Bot de Arbitrajes (Ingresos Activos)</td>\n",
       "      <td></td>\n",
       "      <td>&lt;/p&gt;</td>\n",
       "    </tr>\n",
       "  </tbody>\n",
       "</table>\n",
       "</div>"
      ],
      "text/plain": [
       "                         timestamp                id   nombre  \\\n",
       "0  Wed, 12 Oct 2022 17:08:23 +0000  183cd2b431ee7f25  Facundo   \n",
       "1  Wed, 12 Oct 2022 15:54:48 +0000  183cce7e8ec0b671        F   \n",
       "2  Wed, 12 Oct 2022 12:39:42 +0000  183cc354931b7eea        a   \n",
       "3  Wed, 12 Oct 2022 12:38:57 +0000  183cc349460b345b       ad   \n",
       "\n",
       "             apellido                mail  \\\n",
       "0  Alvarinio de Parga  cocoloco@gmail.com   \n",
       "1           Armentano         a@gmail.com   \n",
       "2                   b             a@g.com   \n",
       "3             d@m.com                   3   \n",
       "\n",
       "                               telefono                              producto  \\\n",
       "0                        +5492613359628  Bot de Arbitrajes (Ingresos Activos)   \n",
       "1                                    43  Bot de Arbitrajes (Ingresos Activos)   \n",
       "2                                     4  Bot de Arbitrajes (Ingresos Activos)   \n",
       "3  Bot de Arbitrajes (Ingresos Activos)                                         \n",
       "\n",
       "                 comment  \n",
       "0  Hola, muy bueno todo!  \n",
       "1                   HOl!  \n",
       "2                         \n",
       "3                   </p>  "
      ]
     },
     "execution_count": 50,
     "metadata": {},
     "output_type": "execute_result"
    }
   ],
   "source": [
    "database = pd.merge(df,df_1,left_on='level_0',right_on='index')\n",
    "database = database.drop(['level_0','index'],axis = 1)\n",
    "database"
   ]
  },
  {
   "cell_type": "code",
   "execution_count": 51,
   "id": "bf4b9a45",
   "metadata": {},
   "outputs": [
    {
     "name": "stdout",
     "output_type": "stream",
     "text": [
      "<class 'pandas.core.frame.DataFrame'>\n",
      "Int64Index: 4 entries, 0 to 3\n",
      "Data columns (total 8 columns):\n",
      " #   Column     Non-Null Count  Dtype              \n",
      "---  ------     --------------  -----              \n",
      " 0   timestamp  4 non-null      datetime64[ns, UTC]\n",
      " 1   id         4 non-null      object             \n",
      " 2   nombre     4 non-null      object             \n",
      " 3   apellido   4 non-null      object             \n",
      " 4   mail       4 non-null      object             \n",
      " 5   telefono   4 non-null      object             \n",
      " 6   producto   4 non-null      object             \n",
      " 7   comment    4 non-null      object             \n",
      "dtypes: datetime64[ns, UTC](1), object(7)\n",
      "memory usage: 288.0+ bytes\n"
     ]
    }
   ],
   "source": [
    "database['timestamp'] = pd.to_datetime(database['timestamp'])\n",
    "database['id'] = database['id'].astype(str)\n",
    "database['nombre'] = database['nombre'].astype(str)\n",
    "database['apellido'] = database['apellido'].astype(str)\n",
    "database['apellido'] = database['apellido'].astype(str)\n",
    "database['telefono'] = database['telefono'].astype(str)\n",
    "database['producto'] = database['producto'].astype(str)\n",
    "database['comment'] = database['comment'].astype(str)\n",
    "database.info()"
   ]
  },
  {
   "cell_type": "code",
   "execution_count": 52,
   "id": "7cd29113",
   "metadata": {},
   "outputs": [],
   "source": [
    "database = database[database['timestamp'] > '2022-10-12 17:00:00']"
   ]
  },
  {
   "cell_type": "markdown",
   "id": "f90f8e24",
   "metadata": {},
   "source": [
    "# 3. Google Sheets and Google Drive APIs"
   ]
  },
  {
   "cell_type": "code",
   "execution_count": 53,
   "id": "79a9e495",
   "metadata": {},
   "outputs": [
    {
     "data": {
      "text/plain": [
       "[{'timestamp': '2022-10-12 17:08:23+00:00',\n",
       "  'id': '183cd2b431ee7f25',\n",
       "  'nombre': 'Facundo',\n",
       "  'apellido': 'Alvarinio de Parga',\n",
       "  'mail': 'cocoloco@gmail.com',\n",
       "  'telefono': 5492613359628,\n",
       "  'producto': 'Bot de Arbitrajes (Ingresos Activos)',\n",
       "  'comment': 'Hola, muy bueno todo!',\n",
       "  'link_whatsapp': 'https://wa.me/+5492613359628'}]"
      ]
     },
     "execution_count": 53,
     "metadata": {},
     "output_type": "execute_result"
    }
   ],
   "source": [
    "#3.a Define scopes, present credentials and select sheet and worksheet. \n",
    "scope = ['https://spreadsheets.google.com/feeds','https://www.googleapis.com/auth/drive']\n",
    "#path = os.getcwd()\n",
    "creds = ServiceAccountCredentials.from_json_keyfile_name(path+'/credentials_sheets.json', scope)\n",
    "client = gspread.authorize(creds)\n",
    "sheet = client.open('your_google_sheets') #Name of your google sheets --> You have to give access to the sheet in the console!\n",
    "sheet_instance = sheet.get_worksheet(0) #First Sheet\n",
    "records_data = sheet_instance.get_all_records()\n",
    "records_data"
   ]
  },
  {
   "cell_type": "code",
   "execution_count": 54,
   "id": "21c07671",
   "metadata": {},
   "outputs": [
    {
     "name": "stderr",
     "output_type": "stream",
     "text": [
      "/var/folders/dc/4lx8s62j5yv14742tqpdh0fw0000gn/T/ipykernel_63661/2083406783.py:1: SettingWithCopyWarning: \n",
      "A value is trying to be set on a copy of a slice from a DataFrame.\n",
      "Try using .loc[row_indexer,col_indexer] = value instead\n",
      "\n",
      "See the caveats in the documentation: https://pandas.pydata.org/pandas-docs/stable/user_guide/indexing.html#returning-a-view-versus-a-copy\n",
      "  database['timestamp'] = database['timestamp'].astype(str)\n"
     ]
    }
   ],
   "source": [
    "database['timestamp'] = database['timestamp'].astype(str)"
   ]
  },
  {
   "cell_type": "code",
   "execution_count": 55,
   "id": "1e65144f",
   "metadata": {},
   "outputs": [
    {
     "data": {
      "text/plain": [
       "{'spreadsheetId': '14I2HHpJlQ_H43KA8GxM0V1YkaU5pBMejqb31VK2zsuE',\n",
       " 'updatedRange': 'bdd!A1:H2',\n",
       " 'updatedRows': 2,\n",
       " 'updatedColumns': 8,\n",
       " 'updatedCells': 16}"
      ]
     },
     "execution_count": 55,
     "metadata": {},
     "output_type": "execute_result"
    }
   ],
   "source": [
    "#3.b Update Google Sheets\n",
    "sheet_instance.update([database.columns.values.tolist()] + database.values.tolist())"
   ]
  }
 ],
 "metadata": {
  "kernelspec": {
   "display_name": "Python 3 (ipykernel)",
   "language": "python",
   "name": "python3"
  },
  "language_info": {
   "codemirror_mode": {
    "name": "ipython",
    "version": 3
   },
   "file_extension": ".py",
   "mimetype": "text/x-python",
   "name": "python",
   "nbconvert_exporter": "python",
   "pygments_lexer": "ipython3",
   "version": "3.9.7"
  }
 },
 "nbformat": 4,
 "nbformat_minor": 5
}
